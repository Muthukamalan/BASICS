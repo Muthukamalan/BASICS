{
 "cells": [
  {
   "cell_type": "markdown",
   "metadata": {},
   "source": [
    "# Intro:\n",
    "pandas is an in-memory analysis tool, which has SQL-like constructs, essential statistical and analytic support, as well as graphing capability"
   ]
  },
  {
   "cell_type": "code",
   "execution_count": 1,
   "metadata": {},
   "outputs": [
    {
     "name": "stdout",
     "output_type": "stream",
     "text": [
      "version:: 2.1.4\n"
     ]
    },
    {
     "name": "stderr",
     "output_type": "stream",
     "text": [
      "c:\\Users\\muthu\\miniconda3\\envs\\venv\\lib\\site-packages\\_distutils_hack\\__init__.py:33: UserWarning: Setuptools is replacing distutils.\n",
      "  warnings.warn(\"Setuptools is replacing distutils.\")\n"
     ]
    },
    {
     "name": "stdout",
     "output_type": "stream",
     "text": [
      "\n",
      "INSTALLED VERSIONS\n",
      "------------------\n",
      "commit              : a671b5a8bf5dd13fb19f0e88edc679bc9e15c673\n",
      "python              : 3.10.13.final.0\n",
      "python-bits         : 64\n",
      "OS                  : Windows\n",
      "OS-release          : 10\n",
      "Version             : 10.0.22621\n",
      "machine             : AMD64\n",
      "processor           : AMD64 Family 25 Model 68 Stepping 1, AuthenticAMD\n",
      "byteorder           : little\n",
      "LC_ALL              : None\n",
      "LANG                : None\n",
      "LOCALE              : English_India.1252\n",
      "\n",
      "pandas              : 2.1.4\n",
      "numpy               : 1.26.2\n",
      "pytz                : 2023.3.post1\n",
      "dateutil            : 2.8.2\n",
      "setuptools          : 68.2.2\n",
      "pip                 : 23.3.1\n",
      "Cython              : None\n",
      "pytest              : None\n",
      "hypothesis          : None\n",
      "sphinx              : None\n",
      "blosc               : None\n",
      "feather             : None\n",
      "xlsxwriter          : None\n",
      "lxml.etree          : None\n",
      "html5lib            : None\n",
      "pymysql             : None\n",
      "psycopg2            : None\n",
      "jinja2              : 3.1.2\n",
      "IPython             : 8.19.0\n",
      "pandas_datareader   : None\n",
      "bs4                 : None\n",
      "bottleneck          : None\n",
      "dataframe-api-compat: None\n",
      "fastparquet         : None\n",
      "fsspec              : None\n",
      "gcsfs               : None\n",
      "matplotlib          : 3.8.2\n",
      "numba               : None\n",
      "numexpr             : None\n",
      "odfpy               : None\n",
      "openpyxl            : 3.1.2\n",
      "pandas_gbq          : None\n",
      "pyarrow             : None\n",
      "pyreadstat          : None\n",
      "pyxlsb              : None\n",
      "s3fs                : None\n",
      "scipy               : 1.11.4\n",
      "sqlalchemy          : None\n",
      "tables              : None\n",
      "tabulate            : None\n",
      "xarray              : None\n",
      "xlrd                : None\n",
      "zstandard           : None\n",
      "tzdata              : 2023.4\n",
      "qtpy                : None\n",
      "pyqt5               : None\n",
      "None\n"
     ]
    }
   ],
   "source": [
    "import numpy as np\n",
    "import matplotlib.pyplot as plt\n",
    "import seaborn as sns\n",
    "plt.style.use('ggplot')\n",
    "sns.color_palette(\"hls\", 15)\n",
    "\n",
    "import pandas as pd\n",
    "\n",
    "\n",
    "print(f\"version:: {pd.__version__}\")\n",
    "print(pd.show_versions())"
   ]
  },
  {
   "cell_type": "markdown",
   "metadata": {},
   "source": [
    "# Data Structure\n",
    "At the core of pandas are two data structures. `Series` and `Dataframe`\n",
    "\n",
    "| Data Structure | Dimensionality | Spreadsheet Analog | Database Analog | Linear Algebra |\n",
    "|----------------|----------------|--------------------|-----------------|----------------|\n",
    "| Series         |   1D           | Column             | Column          | Column vector  |\n",
    "| Dataframe      |   2D           | Single Sheet       | Table           | Matrix         |"
   ]
  },
  {
   "cell_type": "markdown",
   "metadata": {},
   "source": [
    "# Series"
   ]
  },
  {
   "cell_type": "markdown",
   "metadata": {},
   "source": [
    "## Index Abstraction"
   ]
  },
  {
   "cell_type": "code",
   "execution_count": 2,
   "metadata": {},
   "outputs": [
    {
     "name": "stdout",
     "output_type": "stream",
     "text": [
      "{'index': [0, 1, 2, 3], 'data': [145, 142, 38, 13], 'name': 'songs'}\n",
      "142\n",
      "13\n",
      "{'index': ['Paul', 'John', 'Muthu', 'Laksh'], 'data': [145, 142, 38, 13], 'name': 'counts'}\n",
      "38\n"
     ]
    }
   ],
   "source": [
    "# In Python, \n",
    "series:dict = {\n",
    "    'index':[0,1,2,3],\n",
    "    'data':[145,142,38,13],\n",
    "    'name':'songs'\n",
    "}\n",
    "print(series)\n",
    "\n",
    "def get(series:dict,idx:int)->int:\n",
    "    value_idx = series['index'].index(idx)\n",
    "    return series['data'][value_idx]\n",
    "\n",
    "print(get(series=series,idx=1))\n",
    "print(get(series=series,idx=3))\n",
    "\n",
    "\n",
    "\n",
    "# Another example, bit different\n",
    "songs:dict = {\n",
    "    'index':['Paul',\"John\",'Muthu',\"Laksh\"],\n",
    "    'data':[145,142,38,13],\n",
    "    'name':'counts'\n",
    "}\n",
    "print(songs)\n",
    "\n",
    "print(get(songs,idx='Muthu'))\n",
    "\n",
    "# This dobule Astraction of the index seems unnecessary but trick up pandas's sleeves. By allowing non-int values like dates,string."
   ]
  },
  {
   "cell_type": "markdown",
   "metadata": {},
   "source": [
    "## pandas Series\n",
    "![Series](./assets/pandas%20series%20img.png)\n",
    "\n",
    "Even though this looks two-dimensional, remember that the index is not part of the\n",
    "values\n",
    "\n",
    "To get the best speed (and to leverage vectorized operations), the `Values` should be of the same type, though this is not required"
   ]
  },
  {
   "cell_type": "code",
   "execution_count": 3,
   "metadata": {},
   "outputs": [
    {
     "name": "stdout",
     "output_type": "stream",
     "text": [
      "0    145\n",
      "1    142\n",
      "2     38\n",
      "3     13\n",
      "Name: counts, dtype: int64\n",
      "index:: RangeIndex(start=0, stop=4, step=1)\n"
     ]
    }
   ],
   "source": [
    "songs2 = pd.Series([145,142,38,13],name='counts')\n",
    "print(songs2)\n",
    "print(f\"index:: {songs2.index}\")"
   ]
  },
  {
   "cell_type": "markdown",
   "metadata": {},
   "source": [
    "## The NaN values\n",
    "\n",
    "- stands for `Not A Number` similar to NULL in SQL\n",
    "- `None`, `NaN`, `nan`,`<NA>`, and `null` are synonyms in this book when referring to empty or missing data\n",
    "found in a pandas series or dataframe."
   ]
  },
  {
   "cell_type": "code",
   "execution_count": 4,
   "metadata": {},
   "outputs": [
    {
     "name": "stdout",
     "output_type": "stream",
     "text": [
      "Ono        2.0\n",
      "Clapton    NaN\n",
      "dtype: float64\n",
      "count function :: 1\n",
      "size property  :: 2\n"
     ]
    }
   ],
   "source": [
    "nan_series = pd.Series([2,np.nan],index=[\"Ono\",'Clapton'])\n",
    "print(nan_series)\n",
    "# Not type is float64 not int64. internally it coerced values to float value\n",
    "\n",
    "print(f\"count function :: {nan_series.count()}\")  # Ignoring NaN values\n",
    "print(f\"size property  :: {nan_series.size}\")     # Includes missing value"
   ]
  },
  {
   "cell_type": "markdown",
   "metadata": {},
   "source": [
    "## Optional Integer Support for NaN"
   ]
  },
  {
   "cell_type": "code",
   "execution_count": 5,
   "metadata": {},
   "outputs": [
    {
     "name": "stdout",
     "output_type": "stream",
     "text": [
      "Ono            2\n",
      "Claption    <NA>\n",
      "dtype: Int64\n",
      "count function :: 1\n",
      "size property  :: 2\n"
     ]
    }
   ],
   "source": [
    "nan_series2 = pd.Series([2,None],index=['Ono','Claption'],dtype='Int64')\n",
    "print(nan_series2)\n",
    "\n",
    "\n",
    "print(f\"count function :: {nan_series2.count()}\")  # Ignoring NaN values\n",
    "print(f\"size property  :: {nan_series2.size}\")     # Includes missing value"
   ]
  },
  {
   "cell_type": "markdown",
   "metadata": {},
   "source": [
    "## Similar to Numpy\n",
    "- Index operations\n",
    "![FIltering with boolean Array](./assets/filteting%20in%20pandas.png)"
   ]
  },
  {
   "cell_type": "code",
   "execution_count": 6,
   "metadata": {},
   "outputs": [
    {
     "name": "stdout",
     "output_type": "stream",
     "text": [
      "numpy series index 1 :: 142\n",
      "numpy mean :: 84.5\n",
      "median of songs :: 90.0\n",
      "mask::\n",
      "Paul       True\n",
      "John       True\n",
      "George    False\n",
      "Ringo     False\n",
      "dtype: bool\n",
      "modified songs::\n",
      "Paul    145\n",
      "John    142\n",
      "dtype: int64\n"
     ]
    }
   ],
   "source": [
    "numpy_ser = np.array([145 , 142 , 38 , 13])\n",
    "print(f\"numpy series index 1 :: {numpy_ser[1]}\")\n",
    "print(f\"numpy mean :: {numpy_ser.mean()}\")\n",
    "\n",
    "\n",
    "songs3 = pd.Series(index=['Paul',\"John\",\"George\",\"Ringo\"],data=[145,142,38,13])\n",
    "print(f\"median of songs :: {songs3.median()}\")\n",
    "mask = songs3 > songs3.median()\n",
    "print(f\"mask::\\n{mask}\")\n",
    "print(f\"modified songs::\\n{songs3[mask]}\")"
   ]
  },
  {
   "cell_type": "markdown",
   "metadata": {},
   "source": [
    "## Categorical  Data\n",
    "\n",
    "- If our data is limited to few values, we might want to use categorical data. \n",
    "- Benefits:\n",
    "    -   Use less memory than string\n",
    "    -   Improve performance\n",
    "    -   can have an Ordering\n",
    "    -   can perform operation on categories\n",
    "    -   Enforce membership on values\n",
    "- category not limited to string. we can convert numbers or datetime values to category\n",
    "- `.astype(\"catgory\")` or `dtype='category'`\n",
    "- `pd.api.types.CategoricalDtype`\n",
    "\n",
    "\n",
    "\n",
    "| Method | Description |\n",
    "|--------|-------------|\n",
    "|pd.Series(data=None, index=None,dtype=None, name=None, copy=False) |  Create a series from data (sequence, dictionary, or scalar).|\n",
    "| s.index | Access index of series. |\n",
    "| s.astype(dtype, errors='raise') | Cast a series to dtype. To ignore errors (and return original object) use errors='ignore'.|\n",
    "| s[boolean_array] | Return values from s where boolean_array is True.\n",
    "| s.cat.ordered | Determine if a categorical series is ordered.|\n",
    "| s.cat.reorder_categories( new_categories, ordered=False) |Add categories (potentially ordered) to the series new_categories must include all categories.|"
   ]
  },
  {
   "cell_type": "code",
   "execution_count": 7,
   "metadata": {},
   "outputs": [
    {
     "name": "stdout",
     "output_type": "stream",
     "text": [
      "s::\n",
      "0     m\n",
      "1     l\n",
      "2    xs\n",
      "3     s\n",
      "4    xl\n",
      "dtype: category\n",
      "Categories (5, object): ['l', 'm', 's', 'xl', 'xs']\n",
      "is it ordered:: False\n",
      "ordered size_type:: category\n",
      "0      m\n",
      "1      l\n",
      "2    NaN\n",
      "3      s\n",
      "4    NaN\n",
      "dtype: category\n",
      "Categories (3, object): ['s' < 'm' < 'l']\n",
      "is it s3 ordered:: True\n",
      "filtering s3::\n",
      "0    m\n",
      "1    l\n",
      "dtype: category\n",
      "Categories (3, object): ['s' < 'm' < 'l']\n",
      "s::\n",
      "0     m\n",
      "1     l\n",
      "2    xs\n",
      "3     s\n",
      "4    xl\n",
      "dtype: category\n",
      "Categories (5, object): ['xs' < 's' < 'm' < 'l' < 'xl']\n",
      "is it ordered:: True\n"
     ]
    }
   ],
   "source": [
    "s = pd.Series(['m','l','xs','s','xl'],dtype='category')\n",
    "print(f\"s::\\n{s}\")\n",
    "\n",
    "# In nature there is a ordering like small, medium, ... extra-large\n",
    "print(f\"is it ordered:: {s.cat.ordered}\")\n",
    "\n",
    "# To convert into ordered\n",
    "s2 = pd.Series(data=['m','l','xs','s','xl'])\n",
    "size_type = pd.api.types.CategoricalDtype(categories=['s','m','l'],ordered=True)\n",
    "print(f\"ordered size_type:: {size_type}\")\n",
    "\n",
    "s3 = s2.astype(size_type)\n",
    "print(s3)                       # getting NaN because we limited to few sizes\n",
    "print(f\"is it s3 ordered:: {s3.cat.ordered}\")\n",
    "\n",
    "\n",
    "print(f\"filtering s3::\\n{s3[s3>'s']}\")\n",
    "\n",
    "\n",
    "# Other way,\n",
    "s = s.cat.reorder_categories(['xs','s','m','l','xl'],ordered=True)\n",
    "print(f\"s::\\n{s}\")\n",
    "print(f\"is it ordered:: {s.cat.ordered}\")"
   ]
  },
  {
   "cell_type": "code",
   "execution_count": 8,
   "metadata": {},
   "outputs": [
    {
     "name": "stdout",
     "output_type": "stream",
     "text": [
      "0       red\n",
      "1      blue\n",
      "2     green\n",
      "3    violet\n",
      "4    orange\n",
      "dtype: category\n",
      "Categories (5, object): ['blue', 'green', 'orange', 'red', 'violet']\n"
     ]
    }
   ],
   "source": [
    "colors = pd.Series(['red','blue','green','violet','orange'],dtype='category')\n",
    "print(colors)"
   ]
  },
  {
   "cell_type": "markdown",
   "metadata": {},
   "source": [
    "# Series Deep Dive\n",
    "\n",
    "there were many operations you can do with a Series"
   ]
  },
  {
   "cell_type": "markdown",
   "metadata": {},
   "source": [
    "## Loading the Data\n",
    "\n",
    "If zip file has only one csv,we can directly read `.read_csv`. Whereas multiple files, we would need to decompress the data to pull out the file we are interested in."
   ]
  },
  {
   "cell_type": "code",
   "execution_count": 9,
   "metadata": {},
   "outputs": [
    {
     "name": "stderr",
     "output_type": "stream",
     "text": [
      "C:\\Users\\muthu\\AppData\\Local\\Temp\\ipykernel_13740\\2635989666.py:1: DtypeWarning: Columns (68,70,71,72,73,74,76,79) have mixed types. Specify dtype option on import or set low_memory=False.\n",
      "  df:pd.DataFrame    = pd.read_csv(\"./assets/vehicles.csv.zip\")\n"
     ]
    }
   ],
   "source": [
    "df:pd.DataFrame    = pd.read_csv(\"./assets/vehicles.csv.zip\")\n",
    "city_mpg:pd.Series = df.city08\n",
    "highway_mpg:pd.Series = df.highway08"
   ]
  },
  {
   "cell_type": "markdown",
   "metadata": {},
   "source": [
    "## Series Attributes\n",
    "\n",
    "There are many ways to categorize these, and I’m roughly going to do it by what the result of the method is:\n",
    "-   Dunder methods (.__add__,.__iter__,etc) provide many numeric operation, looping, attribute access and index access. For numeric operations, these return Series\n",
    "-   Corresponding operator methods for many of the numeric operations allow us to tweak the behaviout (.add method in addition to .__add__)\n",
    "-   Aggregate methods and properties which reduce or aggregate the values in a series down to single scler value like (.mean, .max, .sum, .is_monotonic property)\n",
    "-   conversion methods. some of these start with .to_ and export the data to other format (parquet,sql,excel,csv,json..)\n",
    "- manipulation methods. some of like (.sort_values, .drop_duplicates) returns Series with same index\n",
    "-   Indexing and accessor methods and attributes like .loc and .iloc (Series or Scaler)\n",
    "-   String manipulation methods using .str\n",
    "-   Date   manipulation methods using .dt\n",
    "-   Plotting methods  using .plot\n",
    "-   Categorical manipaulation using   .cat\n",
    "-   PLotting methods using .plot\n",
    "-   Transformation methods such as .unstack, .reset_index, .agg, .transform\n",
    "-   Attributes such as .index and .dtype\n",
    "-   A bunch of private attributes that we will ignored."
   ]
  },
  {
   "cell_type": "code",
   "execution_count": 10,
   "metadata": {},
   "outputs": [
    {
     "name": "stdout",
     "output_type": "stream",
     "text": [
      "how many functions associated with Series:: 207\n"
     ]
    }
   ],
   "source": [
    "print(f\"how many functions associated with Series:: {len([ _ for _ in dir(pd.Series) if not _.startswith('_') ])}\")"
   ]
  },
  {
   "cell_type": "markdown",
   "metadata": {},
   "source": [
    "# Operators"
   ]
  },
  {
   "cell_type": "markdown",
   "metadata": {},
   "source": [
    "## Intro"
   ]
  },
  {
   "cell_type": "markdown",
   "metadata": {},
   "source": [
    "## Dunder Methods"
   ]
  },
  {
   "cell_type": "markdown",
   "metadata": {},
   "source": [
    "## Index Alignment"
   ]
  },
  {
   "cell_type": "markdown",
   "metadata": {},
   "source": [
    "## Broadcasting"
   ]
  },
  {
   "cell_type": "markdown",
   "metadata": {},
   "source": [
    "## Iteration"
   ]
  },
  {
   "cell_type": "markdown",
   "metadata": {},
   "source": [
    "## Operator Methods"
   ]
  },
  {
   "cell_type": "markdown",
   "metadata": {},
   "source": [
    "## Chaining"
   ]
  },
  {
   "cell_type": "markdown",
   "metadata": {},
   "source": [
    "# Aggregate Methods"
   ]
  },
  {
   "cell_type": "markdown",
   "metadata": {},
   "source": [
    "## Aggregation"
   ]
  },
  {
   "cell_type": "markdown",
   "metadata": {},
   "source": [
    "## Count and Mean of an Attribute"
   ]
  },
  {
   "cell_type": "markdown",
   "metadata": {},
   "source": [
    "## .agg and Aggregation Strings"
   ]
  },
  {
   "cell_type": "markdown",
   "metadata": {},
   "source": [
    "# Conversion Methods"
   ]
  },
  {
   "cell_type": "markdown",
   "metadata": {},
   "source": []
  },
  {
   "cell_type": "markdown",
   "metadata": {},
   "source": []
  },
  {
   "cell_type": "markdown",
   "metadata": {},
   "source": []
  },
  {
   "cell_type": "markdown",
   "metadata": {},
   "source": []
  }
 ],
 "metadata": {
  "kernelspec": {
   "display_name": "venv",
   "language": "python",
   "name": "python3"
  },
  "language_info": {
   "codemirror_mode": {
    "name": "ipython",
    "version": 3
   },
   "file_extension": ".py",
   "mimetype": "text/x-python",
   "name": "python",
   "nbconvert_exporter": "python",
   "pygments_lexer": "ipython3",
   "version": "3.10.13"
  }
 },
 "nbformat": 4,
 "nbformat_minor": 2
}
