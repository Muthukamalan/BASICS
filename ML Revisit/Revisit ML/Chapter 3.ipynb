{
 "cells": [
  {
   "cell_type": "markdown",
   "metadata": {},
   "source": [
    "#### Tour of ML Classifiers using scikit-Learn"
   ]
  },
  {
   "cell_type": "code",
   "execution_count": 1,
   "metadata": {},
   "outputs": [
    {
     "name": "stdout",
     "output_type": "stream",
     "text": [
      "sklearn version:: 1.4.0\n"
     ]
    }
   ],
   "source": [
    "from init import *\n",
    "print(f\"sklearn version:: {sklearn.__version__}\")"
   ]
  },
  {
   "cell_type": "markdown",
   "metadata": {},
   "source": [
    "##### Popular algorithms for classification\n",
    "-   logistic regression\n",
    "-   svm\n",
    "-   decision trees\n",
    "-   k-nearest neighbors\n",
    "\n",
    "\n",
    "Note: *no free lunch theorem* by David H. Wolpert, no single classifier works best across all possible scenarios \n",
    "*(The Lack of A Priori Distinctions Between Learning Algorithms, Wolpert, David H, Neural Computation*)"
   ]
  },
  {
   "cell_type": "code",
   "execution_count": 2,
   "metadata": {},
   "outputs": [
    {
     "name": "stdout",
     "output_type": "stream",
     "text": [
      "Class labels: ['Iris-setosa' 'Iris-versicolor' 'Iris-virginica']\n",
      "(100, 4) (50, 4)\n",
      "{   'with_mean': True,\n",
      "    'with_std': True,\n",
      "    'copy': True,\n",
      "    'n_samples_seen_': 10100,\n",
      "    'feature_names_in_': [   'Petal Length',\n",
      "                             'Petal Width',\n",
      "                             'Sepal Length',\n",
      "                             'Sepal Width '],\n",
      "    'mean_': array([0.05781188, 0.03045545, 0.03711881, 0.01180198]),\n",
      "    'var_': array([0.34134987, 0.09456752, 0.16978556, 0.01978151]),\n",
      "    'scale_': array([0.58425154, 0.30751832, 0.41205043, 0.14064674])}\n"
     ]
    }
   ],
   "source": [
    "iris = pd.read_csv('../assets/ML/iris.csv',header=None)\n",
    "\n",
    "# TODO: tweak IRIS dataset into proper format \n",
    "def tweak_iris(df_:pd.DataFrame)->pd.DataFrame:\n",
    "    return(\n",
    "        df_.rename(columns={0: 'Petal Length',\n",
    "                            1: 'Petal Width',\n",
    "                            2: 'Sepal Length',\n",
    "                            3: 'Sepal Width ',\n",
    "                            4: 'Species Type'}).astype({'Species Type':'category'})\n",
    "    )\n",
    "iris = iris.pipe(tweak_iris)\n",
    "X = iris.drop('Species Type',axis=1)\n",
    "y = iris['Species Type']\n",
    "print('Class labels:', np.unique(y))\n",
    "\n",
    "# PEP-0526\n",
    "X_train:pd.DataFrame\n",
    "X_test:pd.DataFrame\n",
    "y_train:pd.Series\n",
    "y_test:pd.Series\n",
    "X_train, X_test, y_train, y_test = train_test_split(X,y,random_state=1,stratify=y,test_size=0.33)\n",
    "print(X_train.shape,X_test.shape)\n",
    "\n",
    "\n",
    "\n",
    "\n",
    "# TODO:calculate mean and variance\n",
    "#  z = (x - u) / s;;   u=mean, s=std deviation\n",
    "std:StandardScaler = StandardScaler()\n",
    "\n",
    "# monkey patching (not recommended)\n",
    "std.n_samples_seen_=10_000                                     \n",
    "std.feature_names_in_ = ['Petal Length', 'Petal Width', 'Sepal Length', 'Sepal Width ']\n",
    "\n",
    "\n",
    "std.fit(X_train)\n",
    "pprint(std.__dict__,sort_dicts=False,indent=4,depth=2)\n",
    "\n",
    "\n",
    "# transform the data\n",
    "X_train:np.ndarray = std.transform(X_train)\n",
    "X_test:np.ndarray  = std.transform(X_test)"
   ]
  },
  {
   "cell_type": "code",
   "execution_count": 3,
   "metadata": {},
   "outputs": [
    {
     "name": "stdout",
     "output_type": "stream",
     "text": [
      "Perceptron(eta0=0.01, n_jobs=-1, penalty='elasticnet', random_state=1,\n",
      "           verbose=False, warm_start=True)\n",
      "{'C': 1.0,\n",
      " 'alpha': 0.0001,\n",
      " 'average': False,\n",
      " 'class_weight': None,\n",
      " 'early_stopping': False,\n",
      " 'epsilon': 0.1,\n",
      " 'eta0': 0.01,\n",
      " 'fit_intercept': True,\n",
      " 'l1_ratio': 0.15,\n",
      " 'learning_rate': 'constant',\n",
      " 'loss': 'perceptron',\n",
      " 'max_iter': 1000,\n",
      " 'n_iter_no_change': 5,\n",
      " 'n_jobs': -1,\n",
      " 'penalty': 'elasticnet',\n",
      " 'power_t': 0.5,\n",
      " 'random_state': 1,\n",
      " 'shuffle': True,\n",
      " 'tol': 0.001,\n",
      " 'validation_fraction': 0.1,\n",
      " 'verbose': False,\n",
      " 'warm_start': True}\n",
      "['decision_function', 'densify', 'fit', 'get_metadata_routing', 'get_params', 'partial_fit', 'predict', 'score', 'set_fit_request', 'set_params', 'set_partial_fit_request', 'set_score_request', 'sparsify']\n",
      "Misclassified examples: 6\n",
      "'accuracy score: 0.88'\n"
     ]
    }
   ],
   "source": [
    "ppn = Perceptron(eta0=0.01,penalty='elasticnet',n_jobs=-1,warm_start=True,early_stopping=False,verbose=False,random_state=1)\n",
    "pprint(ppn)\n",
    "pprint(ppn.__dict__)\n",
    "print(list(func for func in dir(Perceptron) if callable(getattr(Perceptron, func)) and (not func.startswith(\"__\") and not func.startswith('_'))))\n",
    "\n",
    "# TODO: Fit linear model with Stochastic Gradient Descent.\n",
    "ppn.fit(X_train,y_train)\n",
    "y_pred:np.ndarray = ppn.predict(X_test)\n",
    "\n",
    "print(f'MISCLASSIFIED EXAMPLES: {(y_test != y_pred).sum()}')\n",
    "pprint(f\"ACCURACY SCORE: {(y_test==y_pred).sum()/y_pred.shape[0]}\")"
   ]
  },
  {
   "cell_type": "code",
   "execution_count": 35,
   "metadata": {},
   "outputs": [
    {
     "name": "stdout",
     "output_type": "stream",
     "text": [
      "[ 0.01  0.14 -0.21]\n",
      "  (0, 0)\t0.041670687561067316\n",
      "  (0, 1)\t0.12565242003294055\n",
      "  (0, 2)\t-0.12934490948124372\n",
      "  (0, 3)\t-0.1428501713626379\n",
      "  (1, 0)\t0.3897877166160877\n",
      "  (1, 1)\t-0.4784377163913084\n",
      "  (1, 2)\t0.4723784672530884\n",
      "  (1, 3)\t-0.3526618096615371\n",
      "  (2, 0)\t-0.7277532011701506\n",
      "  (2, 1)\t-1.1742774203180775\n",
      "  (2, 2)\t0.7581972259762504\n",
      "  (2, 3)\t1.1821338205708152\n"
     ]
    }
   ],
   "source": [
    "print(ppn.intercept_)\n",
    "print(ppn.coef_)"
   ]
  },
  {
   "cell_type": "code",
   "execution_count": null,
   "metadata": {},
   "outputs": [],
   "source": []
  }
 ],
 "metadata": {
  "kernelspec": {
   "display_name": "venv",
   "language": "python",
   "name": "python3"
  },
  "language_info": {
   "codemirror_mode": {
    "name": "ipython",
    "version": 3
   },
   "file_extension": ".py",
   "mimetype": "text/x-python",
   "name": "python",
   "nbconvert_exporter": "python",
   "pygments_lexer": "ipython3",
   "version": "3.10.13"
  }
 },
 "nbformat": 4,
 "nbformat_minor": 2
}
