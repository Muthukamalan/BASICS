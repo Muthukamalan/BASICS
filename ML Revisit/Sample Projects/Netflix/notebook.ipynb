{
 "cells": [
  {
   "cell_type": "code",
   "execution_count": 1,
   "metadata": {},
   "outputs": [],
   "source": [
    "import warnings\n",
    "warnings.simplefilter(action='ignore',category=FutureWarning)"
   ]
  },
  {
   "cell_type": "code",
   "execution_count": 2,
   "metadata": {},
   "outputs": [],
   "source": [
    "import numpy as np \n",
    "import pandas as pd\n",
    "from matplotlib import pyplot as plt \n",
    "import seaborn as sns\n",
    "from scipy import stats\n",
    "\n",
    "%matplotlib inline"
   ]
  },
  {
   "cell_type": "code",
   "execution_count": 3,
   "metadata": {},
   "outputs": [
    {
     "name": "stdout",
     "output_type": "stream",
     "text": [
      "<class 'pandas.core.frame.DataFrame'>\n",
      "Index: 8807 entries, s1 to s8807\n",
      "Data columns (total 11 columns):\n",
      " #   Column        Non-Null Count  Dtype \n",
      "---  ------        --------------  ----- \n",
      " 0   type          8807 non-null   object\n",
      " 1   title         8807 non-null   object\n",
      " 2   director      6173 non-null   object\n",
      " 3   cast          7982 non-null   object\n",
      " 4   country       7976 non-null   object\n",
      " 5   date_added    8797 non-null   object\n",
      " 6   release_year  8807 non-null   int64 \n",
      " 7   rating        8803 non-null   object\n",
      " 8   duration      8804 non-null   object\n",
      " 9   listed_in     8807 non-null   object\n",
      " 10  description   8807 non-null   object\n",
      "dtypes: int64(1), object(10)\n",
      "memory usage: 825.7+ KB\n"
     ]
    }
   ],
   "source": [
    "df = pd.read_csv(filepath_or_buffer='./netflix.csv',sep=',',encoding='utf-8',index_col='show_id')\n",
    "df.info(memory_usage=True,verbose=True)"
   ]
  },
  {
   "cell_type": "code",
   "execution_count": 4,
   "metadata": {},
   "outputs": [
    {
     "name": "stdout",
     "output_type": "stream",
     "text": [
      "Duration Column NaN value indexes Index(['s5542', 's5795', 's5814'], dtype='object', name='show_id')\n",
      "          type                                 title    director        cast        country          date_added  release_year  rating duration listed_in                                                                                                                                           description\n",
      "show_id                                                                                                                                                                                                                                                                                                       \n",
      "s5542    Movie                       Louis C.K. 2017  Louis C.K.  Louis C.K.  United States       April 4, 2017          2017  74 min      NaN    Movies            Louis C.K. muses on religion, eternal love, giving dogs drugs, email fights, teachers and more in a live performance from Washington, D.C.\n",
      "s5795    Movie                 Louis C.K.: Hilarious  Louis C.K.  Louis C.K.  United States  September 16, 2016          2010  84 min      NaN    Movies     Emmy-winning comedy writer Louis C.K. brings his caustic wit to Milwaukee, offering up his unique and uncensored take on sex, parenting and more.\n",
      "s5814    Movie  Louis C.K.: Live at the Comedy Store  Louis C.K.  Louis C.K.  United States     August 15, 2016          2015  66 min      NaN    Movies  The comic puts his trademark hilarious/thought-provoking spin on finding a bat in his kitchen, seeing rats having sex, Boston accents and dead pets.\n",
      "          type                                 title    director        cast        country          date_added  release_year rating duration listed_in                                                                                                                                           description\n",
      "show_id                                                                                                                                                                                                                                                                                                      \n",
      "s5542    Movie                       Louis C.K. 2017  Louis C.K.  Louis C.K.  United States       April 4, 2017          2017    NaN   74 min    Movies            Louis C.K. muses on religion, eternal love, giving dogs drugs, email fights, teachers and more in a live performance from Washington, D.C.\n",
      "s5795    Movie                 Louis C.K.: Hilarious  Louis C.K.  Louis C.K.  United States  September 16, 2016          2010    NaN   84 min    Movies     Emmy-winning comedy writer Louis C.K. brings his caustic wit to Milwaukee, offering up his unique and uncensored take on sex, parenting and more.\n",
      "s5814    Movie  Louis C.K.: Live at the Comedy Store  Louis C.K.  Louis C.K.  United States     August 15, 2016          2015    NaN   66 min    Movies  The comic puts his trademark hilarious/thought-provoking spin on finding a bat in his kitchen, seeing rats having sex, Boston accents and dead pets.\n"
     ]
    }
   ],
   "source": [
    "na_duration_index = df.loc[df['duration'].isna()].index\n",
    "print(\"Duration Column NaN value indexes\",na_duration_index)\n",
    "\n",
    "# ratning and duration value swaped\n",
    "print(df.loc[na_duration_index].to_string())\n",
    "\n",
    "df.loc[ na_duration_index , \"duration\" ] = df.loc[ na_duration_index , \"rating\" ]\n",
    "df.loc[ na_duration_index , \"rating\" ]   = np.NaN  \n",
    "\n",
    "# make it proper\n",
    "print(df.loc[na_duration_index].to_string())"
   ]
  },
  {
   "cell_type": "code",
   "execution_count": 5,
   "metadata": {},
   "outputs": [],
   "source": [
    "def tweak_netflix(df_:pd.DataFrame)->pd.DataFrame:\n",
    "    maturity = pd.CategoricalDtype([\n",
    "            'TV-Y',             # suitable for all child\n",
    "            'TV-Y7',            # for child age 7 or older\n",
    "            'TV-Y7-FV',         # for child age or older with Fancy Violence\n",
    "            'TV-G',             # General Audience\n",
    "            'G',                # Geneal Audience   # MOVIE\n",
    "            'TV-PG',            # not suitable for younger child. 'parents guided\" \n",
    "            'PG',               # some may not suitable for child. \"parents guided\"        #MOVIE\n",
    "            'PG-13',            # parents storngly cautioned\n",
    "            'TV-14',            # parents strongly cautioned. inappropriate for 14 yr child\n",
    "            'TV-MA',            # Matured Audience\n",
    "            'NC-17',            # no one 17 and under admitted \n",
    "            'R',                # restricted\n",
    "            'NR',               # not rated\n",
    "            'UR'                # Unrated\n",
    "        ],ordered=True)\n",
    "    return(\n",
    "        df_.assign(\n",
    "            release_year = df_['release_year'].astype('int64'),\n",
    "            rating       = df_['rating'].astype(maturity),\n",
    "            type = df_['type'].astype('category'),\n",
    "            date_added = pd.to_datetime(df_['date_added'],errors='coerce'),\n",
    "            category = df_['duration'].str.split(' ',expand=True)[1].astype('category'),\n",
    "            duration = df_['duration'].str.split(' ',expand=True)[1].astype('category'),\n",
    "            director = df_['director'].astype('str')\n",
    "        ).drop_duplicates()\n",
    "    )"
   ]
  },
  {
   "cell_type": "code",
   "execution_count": 6,
   "metadata": {},
   "outputs": [
    {
     "name": "stdout",
     "output_type": "stream",
     "text": [
      "<class 'pandas.core.frame.DataFrame'>\n",
      "Index: 8807 entries, s1 to s8807\n",
      "Data columns (total 12 columns):\n",
      " #   Column        Non-Null Count  Dtype         \n",
      "---  ------        --------------  -----         \n",
      " 0   type          8807 non-null   category      \n",
      " 1   title         8807 non-null   object        \n",
      " 2   director      8807 non-null   object        \n",
      " 3   cast          7982 non-null   object        \n",
      " 4   country       7976 non-null   object        \n",
      " 5   date_added    8709 non-null   datetime64[ns]\n",
      " 6   release_year  8807 non-null   int64         \n",
      " 7   rating        8800 non-null   category      \n",
      " 8   duration      8807 non-null   category      \n",
      " 9   listed_in     8807 non-null   object        \n",
      " 10  description   8807 non-null   object        \n",
      " 11  category      8807 non-null   category      \n",
      "dtypes: category(4), datetime64[ns](1), int64(1), object(6)\n",
      "memory usage: 912.7+ KB\n"
     ]
    }
   ],
   "source": [
    "dd = tweak_netflix(df)\n",
    "dd.info(memory_usage=True)"
   ]
  },
  {
   "cell_type": "code",
   "execution_count": null,
   "metadata": {},
   "outputs": [],
   "source": []
  }
 ],
 "metadata": {
  "kernelspec": {
   "display_name": "venv",
   "language": "python",
   "name": "python3"
  },
  "language_info": {
   "codemirror_mode": {
    "name": "ipython",
    "version": 3
   },
   "file_extension": ".py",
   "mimetype": "text/x-python",
   "name": "python",
   "nbconvert_exporter": "python",
   "pygments_lexer": "ipython3",
   "version": "3.10.13"
  }
 },
 "nbformat": 4,
 "nbformat_minor": 2
}
