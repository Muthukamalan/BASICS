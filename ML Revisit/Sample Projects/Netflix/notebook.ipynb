{
 "cells": [
  {
   "cell_type": "code",
   "execution_count": 1,
   "metadata": {},
   "outputs": [],
   "source": [
    "import warnings\n",
    "warnings.simplefilter(action='ignore',category=FutureWarning)"
   ]
  },
  {
   "cell_type": "code",
   "execution_count": 2,
   "metadata": {},
   "outputs": [],
   "source": [
    "import numpy as np \n",
    "import pandas as pd\n",
    "from matplotlib import pyplot as plt \n",
    "import seaborn as sns\n",
    "from scipy import stats\n",
    "\n",
    "%matplotlib inline"
   ]
  },
  {
   "cell_type": "code",
   "execution_count": null,
   "metadata": {},
   "outputs": [],
   "source": [
    "df = pd.read_csv(filepath_or_buffer='./netflix.csv',sep=',',encoding='utf-8',index_col='show_id')\n",
    "df.info(memory_usage=True,verbose=True)"
   ]
  },
  {
   "cell_type": "code",
   "execution_count": null,
   "metadata": {},
   "outputs": [],
   "source": [
    "na_duration_index = df.loc[df['duration'].isna()].index\n",
    "print(\"Duration Column NaN value indexes\",na_duration_index)\n",
    "\n",
    "# ratning and duration value swaped\n",
    "print(df.loc[na_duration_index].to_string())\n",
    "\n",
    "df.loc[ na_duration_index , \"duration\" ] = df.loc[ na_duration_index , \"rating\" ]\n",
    "df.loc[ na_duration_index , \"rating\" ]   = np.NaN  \n",
    "\n",
    "# make it proper\n",
    "print(df.loc[na_duration_index].to_string())"
   ]
  },
  {
   "cell_type": "code",
   "execution_count": null,
   "metadata": {},
   "outputs": [],
   "source": [
    "def tweak_netflix(df_:pd.DataFrame)->pd.DataFrame:\n",
    "    maturity = pd.CategoricalDtype([\n",
    "            'TV-Y',             # suitable for all child\n",
    "            'TV-Y7',            # for child age 7 or older\n",
    "            'TV-Y7-FV',         # for child age or older with Fancy Violence\n",
    "            'TV-G',             # General Audience\n",
    "            'G',                # Geneal Audience   # MOVIE\n",
    "            'TV-PG',            # not suitable for younger child. 'parents guided\" \n",
    "            'PG',               # some may not suitable for child. \"parents guided\"        #MOVIE\n",
    "            'PG-13',            # parents storngly cautioned\n",
    "            'TV-14',            # parents strongly cautioned. inappropriate for 14 yr child\n",
    "            'TV-MA',            # Matured Audience\n",
    "            'NC-17',            # no one 17 and under admitted \n",
    "            'R',                # restricted\n",
    "            'NR',               # not rated\n",
    "            'UR'                # Unrated\n",
    "        ],ordered=True)\n",
    "    return(\n",
    "        df_.assign(\n",
    "            release_year = df_['release_year'].astype('int64'),\n",
    "            rating       = df_['rating'].astype(maturity),\n",
    "            type = df_['type'].astype('category'),\n",
    "            date_added = pd.to_datetime(df_['date_added'],errors='coerce'),\n",
    "            category = df_['duration'].str.split(' ',expand=True)[1].astype('category'),\n",
    "            duration = df_['duration'].str.split(' ',expand=True)[1].astype('category'),\n",
    "            director = df_['director'].astype('str')\n",
    "        ).drop_duplicates()\n",
    "    )"
   ]
  },
  {
   "cell_type": "code",
   "execution_count": null,
   "metadata": {},
   "outputs": [],
   "source": [
    "dd = tweak_netflix(df)\n",
    "dd.info(memory_usage=True)"
   ]
  },
  {
   "cell_type": "code",
   "execution_count": null,
   "metadata": {},
   "outputs": [],
   "source": []
  }
 ],
 "metadata": {
  "kernelspec": {
   "display_name": "venv",
   "language": "python",
   "name": "python3"
  },
  "language_info": {
   "codemirror_mode": {
    "name": "ipython",
    "version": 3
   },
   "file_extension": ".py",
   "mimetype": "text/x-python",
   "name": "python",
   "nbconvert_exporter": "python",
   "pygments_lexer": "ipython3",
   "version": "3.10.13"
  }
 },
 "nbformat": 4,
 "nbformat_minor": 2
}
